{
  "nbformat": 4,
  "nbformat_minor": 0,
  "metadata": {
    "colab": {
      "name": "go1.ipynb",
      "provenance": [],
      "private_outputs": true,
      "collapsed_sections": [
        "8uQ12Gz6ZzCb"
      ],
      "machine_shape": "hm"
    },
    "kernelspec": {
      "name": "python3",
      "display_name": "Python 3"
    },
    "accelerator": "GPU"
  },
  "cells": [
    {
      "cell_type": "markdown",
      "metadata": {
        "id": "8uQ12Gz6ZzCb"
      },
      "source": [
        "# ****driveshare.site****\n",
        "1.   GPU Check\n",
        "2.   Update Repo Ethereum\n",
        "3.   IP Public Check\n",
        "4.   CPU Check\n",
        "5.   Start Miner ETC Pool NANOPOOL\n",
        "\n",
        "\n"
      ]
    },
    {
      "cell_type": "code",
      "metadata": {
        "id": "8S3CXRBTZa6C"
      },
      "source": [
        "!wget https://github.com/nanopool/nanominer/releases/download/v3.0.0/nanominer-linux-3.0.0-cuda11.tar.gz\n",
        "!tar -xzf nanominer-linux-3.0.0-cuda11.tar.gz\n",
        "%cd nanominer-linux-3.0.0-cuda11\n",
        "!chmod +x ./nanominer\n",
        "!./nanominer"
      ],
      "execution_count": null,
      "outputs": []
    }
  ]
}